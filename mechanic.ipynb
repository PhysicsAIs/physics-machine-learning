{
 "cells": [
  {
   "cell_type": "markdown",
   "metadata": {},
   "source": [
    "# Physics Mechanics Notebook\n",
    "## Introduction to Mechanics\n",
    "Mechanics is the branch of physics that deals with the study of motion, forces, and energy.\n",
    "\n",
    "### Example: Plotting Motion\n",
    "Let's plot the position of an object under constant acceleration."
   ]
  },
  {
   "cell_type": "code",
   "execution_count": 1,
   "metadata": {},
   "outputs": [],
   "source": [
    "import matplotlib.pyplot as plt\n",
    "import numpy as np\n",
    "\n",
    "initial_velocity = 0\n",
    "acceleration = 2\n",
    "time = np.linspace(0, 10, 100)\n",
    "position = 0.5 * acceleration * time ** 2 + initial_velocity * time\n",
    "\n",
    "plt.figure(figsize=(10, 6))\n",
    "plt.plot(time, position, label='Position vs Time')\n",
    "plt.title('Motion of an Object under Constant Acceleration')\n",
    "plt.xlabel('Time (s)')\n",
    "plt.ylabel('Position (m)')\n",
    "plt.grid(True)\n",
    "plt.legend()\n",
    "plt.show()"
   ]
  }
 ],
 "metadata": {
  "kernelspec": {
   "display_name": "Python 3",
   "language": "python",
   "name": "python3"
  },
  "language_info": {
   "codemirror_mode": {
    "name": "ipython",
    "version": 3
   },
   "file_extension": ".py",
   "mimetype": "text/x-python",
   "name": "python",
   "nbconvert_exporter": "python",
   "pygments_lexer": "ipython3",
   "version": "3.8.8"
  }
 },
 "nbformat": 4,
 "nbformat_minor": 2
}
